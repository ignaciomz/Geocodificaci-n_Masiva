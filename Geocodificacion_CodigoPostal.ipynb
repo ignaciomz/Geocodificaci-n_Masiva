{
  "nbformat": 4,
  "nbformat_minor": 0,
  "metadata": {
    "colab": {
      "provenance": [],
      "authorship_tag": "ABX9TyNk7e+VpqNFCrguVLSDA/Q9",
      "include_colab_link": true
    },
    "kernelspec": {
      "name": "python3",
      "display_name": "Python 3"
    },
    "language_info": {
      "name": "python"
    }
  },
  "cells": [
    {
      "cell_type": "markdown",
      "metadata": {
        "id": "view-in-github",
        "colab_type": "text"
      },
      "source": [
        "<a href=\"https://colab.research.google.com/github/ignaciomz/Geocodificacion_Masiva/blob/main/Geocodificacion_CodigoPostal.ipynb\" target=\"_parent\"><img src=\"https://colab.research.google.com/assets/colab-badge.svg\" alt=\"Open In Colab\"/></a>"
      ]
    },
    {
      "cell_type": "markdown",
      "source": [
        "# Geocodificar Codigos Postales\n",
        "**Este codigo te da la latitud y longitud a partir de un codigo postal usando Nominatim**\n",
        "\n",
        "Lo complejo son las distintas nominaciones de Codigo Postal. En este caso, se esta usando Letra + Número (C1846).\n",
        "\n",
        "En fin, espero sea de ayuda."
      ],
      "metadata": {
        "id": "gWD8PMlMTY24"
      }
    },
    {
      "cell_type": "code",
      "execution_count": null,
      "metadata": {
        "id": "J9U-wl7ETIvt"
      },
      "outputs": [],
      "source": [
        "import time\n",
        "import pandas as pd\n",
        "from geopy.geocoders import Nominatim\n",
        "from geopy.exc import GeocoderTimedOut, GeocoderServiceError\n",
        "\n",
        "# Inicializa el geocodificador de Nominatim\n",
        "geolocator = Nominatim(user_agent=\"tuapp1.0 (tumail@gmail.com)\", timeout=10)\n",
        "\n",
        "# Función para geocodificar un código postal con manejo de tiempo de espera y reintentos\n",
        "def geocode_postal_code(postal_code, retries=3):\n",
        "    for attempt in range(retries):\n",
        "        try:\n",
        "            location = geolocator.geocode({\"postalcode\": postal_code})\n",
        "            if location:\n",
        "                return (location.latitude, location.longitude)\n",
        "            else:\n",
        "                return (None, None)\n",
        "        except (GeocoderTimedOut, GeocoderServiceError) as e:\n",
        "            print(f\"Error: {e}. Intento {attempt + 1} de {retries}.\")\n",
        "            time.sleep(5)  # Espera 5 segundos antes de reintentar\n",
        "    return (None, None)\n",
        "\n",
        "# Cargar el archivo de Excel\n",
        "archivo_excel = 'turutayarchivo.xlsx'  # Reemplaza con la ruta correcta a tu archivo Excel\n",
        "df = pd.read_excel(archivo_excel)\n",
        "\n",
        "# Verifica los nombres de las columnas para identificar la columna de códigos postales\n",
        "print(\"Columnas en el archivo Excel:\", df.columns)\n",
        "\n",
        "# Cambia 'CodigoPostal' por el nombre correcto de la columna que contiene los códigos postales\n",
        "df['latitud'] = None\n",
        "df['longitud'] = None\n",
        "\n",
        "# Recorre cada código postal y geocodifica con pausas para evitar el bloqueo\n",
        "guardar_cada_n_filas = 100  # Guardar cada 100 filas\n",
        "for i, row in df.iterrows():\n",
        "    codigo_postal = row['codpos']  # Cambia 'CodigoPostal' por el nombre correcto de la columna\n",
        "    if pd.notna(codigo_postal) and pd.isna(row['latitud']) and pd.isna(row['longitud']):  # Solo procesar si aún no tiene coordenadas\n",
        "        lat, lon = geocode_postal_code(codigo_postal)\n",
        "        df.at[i, 'latitud'] = lat\n",
        "        df.at[i, 'longitud'] = lon\n",
        "        print(f\"Geocodificado: {codigo_postal} -> ({lat}, {lon})\")\n",
        "        time.sleep(1)  # Pausa solo si se procesa exitosamente\n",
        "\n",
        "        # Guardar el progreso cada n filas\n",
        "        if i % guardar_cada_n_filas == 0:\n",
        "            df.to_excel('/content/drive/MyDrive/tuarchivo.xlsx', index=False, engine='openpyxl')  # Guardado parcial\n",
        "            print(f\"Progreso guardado hasta la fila {i}.\")\n",
        "\n",
        "# Guardar los resultados finales a un nuevo archivo Excel\n",
        "df.to_excel('/content/drive/MyDrive/tuarchivofinal.xlsx', index=False, engine='openpyxl')  # Reemplaza con la ruta donde guardar el archivo final\n",
        "print(\"Geocodificación completa y guardada.\")"
      ]
    }
  ]
}