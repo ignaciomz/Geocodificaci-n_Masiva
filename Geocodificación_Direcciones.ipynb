{
  "nbformat": 4,
  "nbformat_minor": 0,
  "metadata": {
    "colab": {
      "provenance": [],
      "authorship_tag": "ABX9TyM59vV0U+/27ch5D83tael+",
      "include_colab_link": true
    },
    "kernelspec": {
      "name": "python3",
      "display_name": "Python 3"
    },
    "language_info": {
      "name": "python"
    }
  },
  "cells": [
    {
      "cell_type": "markdown",
      "metadata": {
        "id": "view-in-github",
        "colab_type": "text"
      },
      "source": [
        "<a href=\"https://colab.research.google.com/github/ignaciomz/Geocodificacion_Masiva/blob/main/Geocodificaci%C3%B3n_Direcciones.ipynb\" target=\"_parent\"><img src=\"https://colab.research.google.com/assets/colab-badge.svg\" alt=\"Open In Colab\"/></a>"
      ]
    },
    {
      "cell_type": "markdown",
      "source": [
        "# Geocodificación con Pandas y Geopy\n",
        "**A partir de un archivo Excel con Direcciones particulares, podemos obtener la Latitud y Longitud para georeferenciar en un mapa en PowerBI o cualquier software que trabaje sobre coordenadas**\n",
        "\n",
        "Lo dificil de este proceso, es que no te dejará geocodificar mas de 12.000 registros promedio por ejecución, dado que estamos usando una API gratuita.\n",
        "Aquí es importante que se guarde parcialmente un archivo cada n cantidad de registros geocodificados (por si se desconecta la terminal), e ir guardando archivos consecutivos (esto ya un trabajo manual, a tu gusto).\n",
        "\n",
        "Es un proceso que uso mucho en mi trabajo cotidiano.\n",
        "Espero sea de ayuda toda la comunidad Data."
      ],
      "metadata": {
        "id": "Ra85iEeL7AL5"
      }
    },
    {
      "cell_type": "code",
      "execution_count": null,
      "metadata": {
        "id": "YON8Ke_96_D7"
      },
      "outputs": [],
      "source": [
        "import time\n",
        "import pandas as pd\n",
        "from geopy.geocoders import Nominatim\n",
        "from geopy.exc import GeocoderTimedOut, GeocoderServiceError\n",
        "\n",
        "# Inicializa el geocodificador de Nominatim con un tiempo de espera mayor\n",
        "geolocator = Nominatim(user_agent=\"NombredetuAppHipotetica (tumail@gmail.com)\", timeout=10)\n",
        "\n",
        "# Función para geocodificar una dirección con manejo de tiempo de espera y reintentos\n",
        "def geocode_address(address, retries=3):\n",
        "    for attempt in range(retries):\n",
        "        try:\n",
        "            location = geolocator.geocode(address)\n",
        "            if location:\n",
        "                return (location.latitude, location.longitude)\n",
        "            else:\n",
        "                return (None, None)\n",
        "        except (GeocoderTimedOut, GeocoderServiceError) as e:\n",
        "            print(f\"Error: {e}. Intento {attempt + 1} de {retries}.\")\n",
        "            time.sleep(5)  # Espera 5 segundos antes de reintentar\n",
        "    return (None, None)\n",
        "\n",
        "# Cargar el archivo de Excel (debe tener una columna solamente con las direcciones)\n",
        "archivo_excel = 'tuarchivocondirecciones.xlsx'  # Reemplaza con la ruta correcta a tu archivo Excel\n",
        "df = pd.read_excel(archivo_excel)\n",
        "\n",
        "# Verifica los nombres de las columnas para identificar la columna de direcciones\n",
        "print(\"Columnas en el archivo Excel:\", df.columns)\n",
        "\n",
        "# Define Latitud y Lognitud\n",
        "df['latitud'] = None\n",
        "df['longitud'] = None\n",
        "\n",
        "# Recorre cada dirección y geocodifica con pausas para evitar el bloqueo\n",
        "guardar_cada_n_filas = 100  # Guardar cada 100 filas\n",
        "for i, row in df.iterrows():\n",
        "    direccion = row['Domicilio']  # Aquí puedes definir a tu gusto - Recuerda poner el titulo de la columna según tu Archivo con Direcciones, o Domiciliio, o cualquiera sea la referencia.\n",
        "    if pd.notna(direccion) and pd.isna(row['latitud']) and pd.isna(row['longitud']):  # Solo procesar si aún no tiene coordenadas\n",
        "        lat, lon = geocode_address(direccion)\n",
        "        df.at[i, 'latitud'] = lat\n",
        "        df.at[i, 'longitud'] = lon\n",
        "        print(f\"Geocodificado: {direccion} -> ({lat}, {lon})\")\n",
        "        time.sleep(1)  # Pausa solo si se procesa exitosamente\n",
        "\n",
        "        # Guardar el progreso cada n filas\n",
        "        if i % guardar_cada_n_filas == 0:\n",
        "            df.to_excel('nombredearchivoguardadotemporal.xlsx', index=False, engine='openpyxl')  # Guardado parcial en ruta y nombre especifico\n",
        "            print(f\"Progreso guardado hasta la fila {i}.\")\n",
        "\n",
        "# Guardar los resultados finales a un nuevo archivo Excel\n",
        "df.to_excel('nombrearchivofinal.xlsx', index=False, engine='openpyxl')  # Reemplaza con la ruta donde guardar el archivo final\n",
        "print(\"Geocodificación completa y guardada.\")"
      ]
    }
  ]
}